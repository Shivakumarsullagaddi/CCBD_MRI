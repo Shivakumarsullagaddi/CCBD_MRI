{
  "metadata": {
    "kernelspec": {
      "name": "python3",
      "display_name": "Python 3",
      "language": "python"
    },
    "language_info": {
      "name": "python",
      "version": "3.11.13",
      "mimetype": "text/x-python",
      "codemirror_mode": {
        "name": "ipython",
        "version": 3
      },
      "pygments_lexer": "ipython3",
      "nbconvert_exporter": "python",
      "file_extension": ".py"
    },
    "colab": {
      "provenance": [],
      "name": "9_3D_VGG__MC_650",
      "include_colab_link": true
    },
    "kaggle": {
      "accelerator": "nvidiaTeslaT4",
      "dataSources": [
        {
          "sourceId": 12388428,
          "sourceType": "datasetVersion",
          "datasetId": 7811738
        }
      ],
      "dockerImageVersionId": 31090,
      "isInternetEnabled": true,
      "language": "python",
      "sourceType": "notebook",
      "isGpuEnabled": true
    }
  },
  "nbformat_minor": 0,
  "nbformat": 4,
  "cells": [
    {
      "cell_type": "markdown",
      "metadata": {
        "id": "view-in-github",
        "colab_type": "text"
      },
      "source": [
        "<a href=\"https://colab.research.google.com/github/Shivakumarsullagaddi/CCBD_MRI/blob/main/9_3D_VGG__MC_650.ipynb\" target=\"_parent\"><img src=\"https://colab.research.google.com/assets/colab-badge.svg\" alt=\"Open In Colab\"/></a>"
      ]
    },
    {
      "source": [
        "# IMPORTANT: SOME KAGGLE DATA SOURCES ARE PRIVATE\n",
        "# RUN THIS CELL IN ORDER TO IMPORT YOUR KAGGLE DATA SOURCES.\n",
        "import kagglehub\n",
        "kagglehub.login()\n"
      ],
      "metadata": {
        "id": "OZkcOt-xgovY"
      },
      "cell_type": "code",
      "outputs": [],
      "execution_count": null
    },
    {
      "source": [
        "# IMPORTANT: RUN THIS CELL IN ORDER TO IMPORT YOUR KAGGLE DATA SOURCES,\n",
        "# THEN FEEL FREE TO DELETE THIS CELL.\n",
        "# NOTE: THIS NOTEBOOK ENVIRONMENT DIFFERS FROM KAGGLE'S PYTHON\n",
        "# ENVIRONMENT SO THERE MAY BE MISSING LIBRARIES USED BY YOUR\n",
        "# NOTEBOOK.\n",
        "\n",
        "ushivakumarpesu_dataset_nifiti2_path = kagglehub.dataset_download('ushivakumarpesu/dataset-nifiti2')\n",
        "\n",
        "print('Data source import complete.')\n"
      ],
      "metadata": {
        "id": "ORJ0eVRsgovZ"
      },
      "cell_type": "code",
      "outputs": [],
      "execution_count": null
    },
    {
      "cell_type": "markdown",
      "source": [
        "import set up"
      ],
      "metadata": {
        "id": "GnHk1b3-GKqy"
      }
    },
    {
      "cell_type": "markdown",
      "source": [
        "#Binary Classification\n",
        "#3D RESNET with CBAM for MRI Classification in PyTorch\n",
        "\n",
        "0 → CN (Not Alzheimer's)\n",
        "\n",
        "1 → AD (Alzheimer's)\n",
        "\n",
        "**Output**\n",
        "\n",
        "Val acc : ~75%\n",
        "\n",
        "ROC AUC: 0.847\n"
      ],
      "metadata": {
        "id": "KuSIh_PzF3c_"
      }
    },
    {
      "cell_type": "code",
      "source": [
        "!pip install nibabel scipy\n",
        "\n",
        "import os\n",
        "import random\n",
        "import torch\n",
        "import numpy as np\n",
        "import nibabel as nib\n",
        "from torch.utils.data import Dataset, DataLoader\n",
        "import torch.nn as nn\n",
        "import torch.optim as optim\n",
        "import matplotlib.pyplot as plt\n",
        "from sklearn.metrics import confusion_matrix, classification_report, roc_auc_score, roc_curve\n",
        "import seaborn as sns\n",
        "from scipy.ndimage import zoom\n",
        "from torch.amp import autocast, GradScaler\n",
        "\n",
        "device = torch.device('cuda' if torch.cuda.is_available() else 'cpu')\n"
      ],
      "metadata": {
        "id": "LQjRnfP9F2pS",
        "trusted": true
      },
      "outputs": [],
      "execution_count": null
    },
    {
      "cell_type": "markdown",
      "source": [
        "Data Agumentation"
      ],
      "metadata": {
        "id": "vB9mF_ulGPN7"
      }
    },
    {
      "cell_type": "code",
      "source": [
        "def augment_volume(volume):\n",
        "    if random.random() > 0.5:\n",
        "        volume = np.flip(volume, axis=0)\n",
        "    if random.random() > 0.5:\n",
        "        volume = np.flip(volume, axis=1)\n",
        "    if random.random() > 0.5:\n",
        "        volume = np.flip(volume, axis=2)\n",
        "    k = random.choice([0,1,2,3])\n",
        "    axis = random.choice([(0,1),(1,2),(0,2)])\n",
        "    volume = np.rot90(volume, k=k, axes=axis)\n",
        "    if random.random() > 0.5:\n",
        "        noise = np.random.normal(0, 0.02, volume.shape)\n",
        "        volume = volume + noise\n",
        "    if random.random() > 0.5:\n",
        "        scale = random.uniform(0.9, 1.1)\n",
        "        volume = volume * scale\n",
        "    volume = np.clip(volume, 0, 1)\n",
        "    return volume\n"
      ],
      "metadata": {
        "id": "Nyl2bgMoGiDZ",
        "trusted": true
      },
      "outputs": [],
      "execution_count": null
    },
    {
      "cell_type": "markdown",
      "source": [
        "MRI dataset"
      ],
      "metadata": {
        "id": "R01qlYPJGlpS"
      }
    },
    {
      "cell_type": "code",
      "source": [
        "class MRI3DDataset(Dataset):\n",
        "    def __init__(self, samples, target_shape=(128, 128, 128), augment=False):\n",
        "        self.samples = samples\n",
        "        self.target_shape = target_shape\n",
        "        self.augment = augment\n",
        "\n",
        "    def __len__(self):\n",
        "        return len(self.samples)\n",
        "\n",
        "    def __getitem__(self, idx):\n",
        "        nii_path, label = self.samples[idx]\n",
        "        img = nib.load(nii_path).get_fdata()\n",
        "        img = (img - np.min(img)) / (np.max(img) - np.min(img) + 1e-8)\n",
        "        img = self.resize_volume(img, self.target_shape)\n",
        "        if self.augment:\n",
        "            img = augment_volume(img)\n",
        "        img = img[np.newaxis, ...].astype(np.float32)\n",
        "        return torch.tensor(img), label\n",
        "\n",
        "    def resize_volume(self, volume, target_shape):\n",
        "        depth, height, width = volume.shape\n",
        "        target_depth, target_height, target_width = target_shape\n",
        "        depth_factor = target_depth / depth\n",
        "        height_factor = target_height / height\n",
        "        width_factor = target_width / width\n",
        "        return zoom(volume, (depth_factor, height_factor, width_factor), order=1)\n"
      ],
      "metadata": {
        "id": "AkhHnLeBGpzo",
        "trusted": true
      },
      "outputs": [],
      "execution_count": null
    },
    {
      "cell_type": "markdown",
      "source": [
        "data preparation\n"
      ],
      "metadata": {
        "id": "du1iwiklGryq"
      }
    },
    {
      "cell_type": "code",
      "source": [
        "root_dir = '/kaggle/input/dataset-nifiti2/DATASET_NIFTI2'\n",
        "class_names = ['AD', 'CN', 'MCI']  # Change as needed\n",
        "class_map = {'CN': 0, 'AD': 1, 'MCI': 2}\n",
        "random.seed(42)\n",
        "\n",
        "train_samples, val_samples, test_samples = [], [], []\n",
        "\n",
        "for cls in class_names:\n",
        "    class_dir = os.path.join(root_dir, cls)\n",
        "    if not os.path.exists(class_dir): continue\n",
        "    nii_files = [f for f in os.listdir(class_dir) if f.endswith(('.nii', '.nii.gz'))]\n",
        "    random.shuffle(nii_files)\n",
        "    n_total = len(nii_files)\n",
        "    n_train = int(0.7 * n_total)\n",
        "    n_val = int(0.15 * n_total)\n",
        "    for file_list, sample_list in zip([nii_files[:n_train],\n",
        "                                       nii_files[n_train:n_train+n_val],\n",
        "                                       nii_files[n_train+n_val:]],\n",
        "                                      [train_samples, val_samples, test_samples]):\n",
        "        for nii_file in file_list:\n",
        "            nii_path = os.path.join(class_dir, nii_file)\n",
        "            sample_list.append((nii_path, class_map[cls]))\n",
        "\n",
        "batch_size = 2\n",
        "target_shape = (128, 128, 128)\n",
        "train_dataset = MRI3DDataset(train_samples, target_shape, augment=True)\n",
        "val_dataset = MRI3DDataset(val_samples, target_shape, augment=False)\n",
        "test_dataset = MRI3DDataset(test_samples, target_shape, augment=False)\n",
        "train_loader = DataLoader(train_dataset, batch_size=batch_size, shuffle=True, num_workers=2)\n",
        "val_loader = DataLoader(val_dataset, batch_size=batch_size, shuffle=False, num_workers=2)\n",
        "test_loader = DataLoader(test_dataset, batch_size=batch_size, shuffle=False, num_workers=2)"
      ],
      "metadata": {
        "id": "wqAbRhaEGwMz",
        "trusted": true
      },
      "outputs": [],
      "execution_count": null
    },
    {
      "cell_type": "markdown",
      "source": [
        "3D VGG Model"
      ],
      "metadata": {
        "id": "s1yaX5xzG0zf"
      }
    },
    {
      "cell_type": "code",
      "source": [
        "class VGG3D(nn.Module):\n",
        "    def __init__(self, num_classes=3):\n",
        "        super().__init__()\n",
        "        self.features = nn.Sequential(\n",
        "            nn.Conv3d(1, 32, kernel_size=3, padding=1),\n",
        "            nn.BatchNorm3d(32),\n",
        "            nn.ReLU(inplace=True),\n",
        "            nn.Conv3d(32, 32, kernel_size=3, padding=1),\n",
        "            nn.BatchNorm3d(32),\n",
        "            nn.ReLU(inplace=True),\n",
        "            nn.MaxPool3d(2),\n",
        "\n",
        "            nn.Conv3d(32, 64, kernel_size=3, padding=1),\n",
        "            nn.BatchNorm3d(64),\n",
        "            nn.ReLU(inplace=True),\n",
        "            nn.Conv3d(64, 64, kernel_size=3, padding=1),\n",
        "            nn.BatchNorm3d(64),\n",
        "            nn.ReLU(inplace=True),\n",
        "            nn.MaxPool3d(2),\n",
        "\n",
        "            nn.Conv3d(64, 128, kernel_size=3, padding=1),\n",
        "            nn.BatchNorm3d(128),\n",
        "            nn.ReLU(inplace=True),\n",
        "            nn.Conv3d(128, 128, kernel_size=3, padding=1),\n",
        "            nn.BatchNorm3d(128),\n",
        "            nn.ReLU(inplace=True),\n",
        "            nn.MaxPool3d(2),\n",
        "\n",
        "            nn.Conv3d(128, 256, kernel_size=3, padding=1),\n",
        "            nn.BatchNorm3d(256),\n",
        "            nn.ReLU(inplace=True),\n",
        "            nn.Conv3d(256, 256, kernel_size=3, padding=1),\n",
        "            nn.BatchNorm3d(256),\n",
        "            nn.ReLU(inplace=True),\n",
        "            nn.MaxPool3d(2),\n",
        "        )\n",
        "        self.avgpool = nn.AdaptiveAvgPool3d((2, 2, 2))\n",
        "        self.classifier = nn.Sequential(\n",
        "            nn.Flatten(),\n",
        "            nn.Linear(256 * 2 * 2 * 2, 512),\n",
        "            nn.ReLU(inplace=True),\n",
        "            nn.Dropout(0.5),\n",
        "            nn.Linear(512, num_classes)\n",
        "        )\n",
        "\n",
        "    def forward(self, x):\n",
        "        x = self.features(x)\n",
        "        x = self.avgpool(x)\n",
        "        x = self.classifier(x)\n",
        "        return x\n",
        "\n",
        "model = VGG3D(num_classes=len(class_names))\n",
        "if torch.cuda.device_count() > 1:\n",
        "    print(f\"Using {torch.cuda.device_count()} GPUs!\")\n",
        "    model = nn.DataParallel(model)\n",
        "model = model.to(device)\n"
      ],
      "metadata": {
        "id": "8QUOMk-MG4fZ",
        "trusted": true
      },
      "outputs": [],
      "execution_count": null
    },
    {
      "cell_type": "markdown",
      "source": [
        "Training Loop"
      ],
      "metadata": {
        "id": "XXeXpLRxG66n"
      }
    },
    {
      "cell_type": "code",
      "source": [
        "criterion = nn.CrossEntropyLoss()\n",
        "optimizer = optim.AdamW(model.parameters(), lr=1e-4, weight_decay=1e-3)\n",
        "scaler = GradScaler(\"cuda\")\n",
        "num_epochs = 10\n",
        "best_val_acc = 0\n",
        "\n",
        "for epoch in range(num_epochs):\n",
        "    model.train()\n",
        "    running_loss, correct, total = 0.0, 0, 0\n",
        "    for i, (volumes, labels) in enumerate(train_loader):\n",
        "        volumes, labels = volumes.to(device), labels.to(device)\n",
        "        optimizer.zero_grad()\n",
        "        with autocast(\"cuda\", dtype=torch.float16):\n",
        "            outputs = model(volumes)\n",
        "            loss = criterion(outputs, labels)\n",
        "        scaler.scale(loss).backward()\n",
        "        scaler.step(optimizer)\n",
        "        scaler.update()\n",
        "        running_loss += loss.item() * volumes.size(0)\n",
        "        _, predicted = torch.max(outputs, 1)\n",
        "        total += labels.size(0)\n",
        "        correct += (predicted == labels).sum().item()\n",
        "        if i % 5 == 0:\n",
        "            print(f\"Epoch {epoch+1}, Batch {i+1}/{len(train_loader)}, Loss: {loss.item():.4f}\")\n",
        "    train_acc = 100 * correct / total\n",
        "\n",
        "    # Validation\n",
        "    model.eval()\n",
        "    val_correct, val_total = 0, 0\n",
        "    with torch.no_grad():\n",
        "        for volumes, labels in val_loader:\n",
        "            volumes, labels = volumes.to(device), labels.to(device)\n",
        "            with autocast(\"cuda\", dtype=torch.float16):\n",
        "                outputs = model(volumes)\n",
        "            _, predicted = torch.max(outputs, 1)\n",
        "            val_total += labels.size(0)\n",
        "            val_correct += (predicted == labels).sum().item()\n",
        "    val_acc = 100 * val_correct / val_total\n",
        "\n",
        "    torch.save(model.state_dict(), '/kaggle/working/best_model_vgg3d.pth')\n",
        "    print(f\"[Checkpoint saved after epoch {epoch+1}]\")\n",
        "\n",
        "    if val_acc > best_val_acc:\n",
        "        best_val_acc = val_acc\n",
        "        torch.save(model.state_dict(), '/kaggle/working/best_model_vgg3d_bestval.pth')\n",
        "        print(f\"[Best model updated at epoch {epoch+1}]\")\n",
        "\n",
        "    print(f\"Epoch {epoch+1}/{num_epochs}: Loss={running_loss/len(train_loader.dataset):.4f} \"\n",
        "          f\"Train Acc={train_acc:.2f}% Val Acc={val_acc:.2f}%\")\n"
      ],
      "metadata": {
        "id": "4yOKpjLOG6M1",
        "trusted": true
      },
      "outputs": [],
      "execution_count": null
    },
    {
      "cell_type": "markdown",
      "source": [
        "Evaluation & Visualization"
      ],
      "metadata": {
        "id": "USymsojsHBuY"
      }
    },
    {
      "cell_type": "code",
      "source": [
        "model.load_state_dict(torch.load('/kaggle/working/best_model_vgg3d_bestval.pth'))\n",
        "model.eval()\n",
        "all_preds, all_targets, all_probs = [], [], []\n",
        "with torch.no_grad():\n",
        "    for volumes, labels in test_loader:\n",
        "        volumes = volumes.to(device)\n",
        "        outputs = model(volumes)\n",
        "        probs = torch.softmax(outputs, dim=1).cpu().numpy()\n",
        "        _, predicted = torch.max(outputs, 1)\n",
        "        all_preds.extend(predicted.cpu().numpy())\n",
        "        all_targets.extend(labels.numpy())\n",
        "        all_probs.extend(probs)\n",
        "\n",
        "all_targets = np.array(all_targets)\n",
        "all_preds = np.array(all_preds)\n",
        "all_probs = np.array(all_probs)\n",
        "\n",
        "# Multiclass ROC (one-vs-rest)\n",
        "fpr, tpr, roc_auc = {}, {}, {}\n",
        "for i in range(len(class_names)):\n",
        "    fpr[i], tpr[i], _ = roc_curve((all_targets == i).astype(int), all_probs[:, i])\n",
        "    roc_auc[i] = roc_auc_score((all_targets == i).astype(int), all_probs[:, i])\n",
        "plt.figure(figsize=(7,6))\n",
        "for i in range(len(class_names)):\n",
        "    plt.plot(fpr[i], tpr[i], label=f\"{class_names[i]} (AUC={roc_auc[i]:.2f})\")\n",
        "plt.plot([0,1],[0,1],'k--')\n",
        "plt.xlabel(\"False Positive Rate\")\n",
        "plt.ylabel(\"True Positive Rate\")\n",
        "plt.title(\"Subject-level ROC Curve (One-vs-Rest)\")\n",
        "plt.legend()\n",
        "plt.show()\n",
        "\n",
        "# Confusion matrix and report\n",
        "cm = confusion_matrix(all_targets, all_preds)\n",
        "plt.figure(figsize=(6,5))\n",
        "sns.heatmap(cm, annot=True, fmt='d', cmap='Blues',\n",
        "            xticklabels=class_names, yticklabels=class_names)\n",
        "plt.xlabel(\"Predicted\")\n",
        "plt.ylabel(\"True\")\n",
        "plt.title(\"Confusion Matrix\")\n",
        "plt.show()\n",
        "print(classification_report(all_targets, all_preds, target_names=class_names))\n"
      ],
      "metadata": {
        "id": "65m1LuxYHDdA",
        "trusted": true
      },
      "outputs": [],
      "execution_count": null
    },
    {
      "cell_type": "markdown",
      "source": [
        "Systematic Prediction Visualization"
      ],
      "metadata": {
        "id": "tafDTyBgHF9w"
      }
    },
    {
      "cell_type": "code",
      "source": [
        "def visualize_predictions(dataset, model, device, class_names, num_subjects=8):\n",
        "    model.eval()\n",
        "    fig, axes = plt.subplots(num_subjects, 3, figsize=(12, num_subjects*3))\n",
        "    for idx in range(num_subjects):\n",
        "        volume, label = dataset[idx]\n",
        "        volume = volume.unsqueeze(0).to(device)\n",
        "        with torch.no_grad():\n",
        "            output = model(volume)\n",
        "            probs = torch.softmax(output, dim=1).cpu().numpy().squeeze()\n",
        "            pred = np.argmax(probs)\n",
        "        vol_np = volume.cpu().numpy().squeeze()\n",
        "        mid_slices = [vol_np.shape[0]//2, vol_np.shape[1]//2, vol_np.shape[2]//2]\n",
        "        slices = [\n",
        "            vol_np[mid_slices[0], :, :],   # Axial\n",
        "            vol_np[:, mid_slices[1], :],   # Coronal\n",
        "            vol_np[:, :, mid_slices[2]]    # Sagittal\n",
        "        ]\n",
        "        for j, img in enumerate(slices):\n",
        "            ax = axes[idx, j]\n",
        "            ax.imshow(img, cmap='gray')\n",
        "            ax.axis('off')\n",
        "            if j == 0:\n",
        "                title = f\"True: {class_names[label]}\\nPred: {class_names[pred]}\\nConf: {probs[pred]:.2f}\"\n",
        "                ax.set_title(title, fontsize=10)\n",
        "    plt.tight_layout()\n",
        "    plt.show()\n",
        "\n",
        "# Example usage:\n",
        "# visualize_predictions(test_dataset, model, device, class_names, num_subjects=8)\n"
      ],
      "metadata": {
        "id": "8hqwG8C8HGoY",
        "trusted": true
      },
      "outputs": [],
      "execution_count": null
    }
  ]
}