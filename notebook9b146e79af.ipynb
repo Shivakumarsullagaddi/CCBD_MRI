{
  "metadata": {
    "kernelspec": {
      "language": "python",
      "display_name": "Python 3",
      "name": "python3"
    },
    "language_info": {
      "name": "python",
      "version": "3.11.11",
      "mimetype": "text/x-python",
      "codemirror_mode": {
        "name": "ipython",
        "version": 3
      },
      "pygments_lexer": "ipython3",
      "nbconvert_exporter": "python",
      "file_extension": ".py"
    },
    "kaggle": {
      "accelerator": "nvidiaTeslaT4",
      "dataSources": [
        {
          "sourceId": 12358748,
          "sourceType": "datasetVersion",
          "datasetId": 7791727
        }
      ],
      "dockerImageVersionId": 31041,
      "isInternetEnabled": true,
      "language": "python",
      "sourceType": "notebook",
      "isGpuEnabled": true
    },
    "colab": {
      "name": "notebook9b146e79af",
      "provenance": [],
      "include_colab_link": true
    }
  },
  "nbformat_minor": 0,
  "nbformat": 4,
  "cells": [
    {
      "cell_type": "markdown",
      "metadata": {
        "id": "view-in-github",
        "colab_type": "text"
      },
      "source": [
        "<a href=\"https://colab.research.google.com/github/Shivakumarsullagaddi/CCBD_MRI/blob/main/notebook9b146e79af.ipynb\" target=\"_parent\"><img src=\"https://colab.research.google.com/assets/colab-badge.svg\" alt=\"Open In Colab\"/></a>"
      ]
    },
    {
      "cell_type": "markdown",
      "metadata": {
        "id": "KuSIh_PzF3c_"
      },
      "source": [
        "#Binary Classification\n",
        "#3D RESNET for MRI Classification in PyTorch\n",
        "\n",
        "0 → CN (Not Alzheimer's)\n",
        "\n",
        "1 → AD (Alzheimer's)\n",
        "\n",
        "**Output**\n",
        "\n",
        "Val acc : ~75%\n",
        "\n",
        "ROC AUC: 0.847\n"
      ]
    },
    {
      "cell_type": "markdown",
      "metadata": {
        "id": "4aMIbPi_QDlT"
      },
      "source": [
        "**Solved Problems**\n",
        "\n",
        ">solved the problem of dataset,Now we have 650 subjects in each class\n",
        "\n",
        "\n",
        "\n",
        "**Problem :**\n",
        "            \n",
        "\n",
        "> model is little overfitting\n",
        "\n",
        "> Try with different models,next aim DenseNet\n",
        "\n",
        "**learning**\n",
        "<br>3D images needs more compution (GPUs) TAKES MORE TIME WITH CPU"
      ]
    },
    {
      "source": [
        "# IMPORTANT: SOME KAGGLE DATA SOURCES ARE PRIVATE\n",
        "# RUN THIS CELL IN ORDER TO IMPORT YOUR KAGGLE DATA SOURCES.\n",
        "import kagglehub\n",
        "kagglehub.login()\n"
      ],
      "metadata": {
        "id": "G51ixkFG-H3v"
      },
      "cell_type": "code",
      "outputs": [],
      "execution_count": null
    },
    {
      "source": [
        "# IMPORTANT: RUN THIS CELL IN ORDER TO IMPORT YOUR KAGGLE DATA SOURCES,\n",
        "# THEN FEEL FREE TO DELETE THIS CELL.\n",
        "# NOTE: THIS NOTEBOOK ENVIRONMENT DIFFERS FROM KAGGLE'S PYTHON\n",
        "# ENVIRONMENT SO THERE MAY BE MISSING LIBRARIES USED BY YOUR\n",
        "# NOTEBOOK.\n",
        "\n",
        "shivakumarullagaddi_dataset_nifiti2_path = kagglehub.dataset_download('shivakumarullagaddi/dataset-nifiti2')\n",
        "\n",
        "print('Data source import complete.')\n"
      ],
      "metadata": {
        "id": "nheZwUlQ-H3x"
      },
      "cell_type": "code",
      "outputs": [],
      "execution_count": null
    },
    {
      "cell_type": "code",
      "source": [
        "!pip install nibabel scipy\n",
        "\n",
        "import os\n",
        "import random\n",
        "import torch\n",
        "import numpy as np\n",
        "import nibabel as nib\n",
        "from torch.utils.data import Dataset, DataLoader\n",
        "import torch.nn as nn\n",
        "import torch.optim as optim\n",
        "from torchvision.models.video import r3d_18, R3D_18_Weights\n",
        "import matplotlib.pyplot as plt\n",
        "from sklearn.metrics import confusion_matrix, classification_report, roc_auc_score, roc_curve\n",
        "import seaborn as sns\n",
        "from scipy.ndimage import zoom\n",
        "\n",
        "from torch.cuda.amp import autocast, GradScaler\n",
        "\n",
        "device = torch.device('cuda' if torch.cuda.is_available() else 'cpu')\n"
      ],
      "metadata": {
        "_uuid": "8f2839f25d086af736a60e9eeb907d3b93b6e0e5",
        "_cell_guid": "b1076dfc-b9ad-4769-8c92-a6c4dae69d19",
        "trusted": true,
        "execution": {
          "iopub.status.busy": "2025-07-03T18:39:13.746999Z",
          "iopub.execute_input": "2025-07-03T18:39:13.747343Z",
          "iopub.status.idle": "2025-07-03T18:39:27.115195Z",
          "shell.execute_reply.started": "2025-07-03T18:39:13.747319Z",
          "shell.execute_reply": "2025-07-03T18:39:27.114541Z"
        },
        "id": "P5-eHut7-H3x",
        "outputId": "f117b724-a023-402a-9b01-fa139dfbdf0f"
      },
      "outputs": [
        {
          "name": "stdout",
          "text": "Requirement already satisfied: nibabel in /usr/local/lib/python3.11/dist-packages (5.3.2)\nRequirement already satisfied: scipy in /usr/local/lib/python3.11/dist-packages (1.15.2)\nRequirement already satisfied: importlib-resources>=5.12 in /usr/local/lib/python3.11/dist-packages (from nibabel) (6.5.2)\nRequirement already satisfied: numpy>=1.22 in /usr/local/lib/python3.11/dist-packages (from nibabel) (1.26.4)\nRequirement already satisfied: packaging>=20 in /usr/local/lib/python3.11/dist-packages (from nibabel) (25.0)\nRequirement already satisfied: typing-extensions>=4.6 in /usr/local/lib/python3.11/dist-packages (from nibabel) (4.13.2)\nRequirement already satisfied: mkl_fft in /usr/local/lib/python3.11/dist-packages (from numpy>=1.22->nibabel) (1.3.8)\nRequirement already satisfied: mkl_random in /usr/local/lib/python3.11/dist-packages (from numpy>=1.22->nibabel) (1.2.4)\nRequirement already satisfied: mkl_umath in /usr/local/lib/python3.11/dist-packages (from numpy>=1.22->nibabel) (0.1.1)\nRequirement already satisfied: mkl in /usr/local/lib/python3.11/dist-packages (from numpy>=1.22->nibabel) (2025.1.0)\nRequirement already satisfied: tbb4py in /usr/local/lib/python3.11/dist-packages (from numpy>=1.22->nibabel) (2022.1.0)\nRequirement already satisfied: mkl-service in /usr/local/lib/python3.11/dist-packages (from numpy>=1.22->nibabel) (2.4.1)\nRequirement already satisfied: intel-openmp<2026,>=2024 in /usr/local/lib/python3.11/dist-packages (from mkl->numpy>=1.22->nibabel) (2024.2.0)\nRequirement already satisfied: tbb==2022.* in /usr/local/lib/python3.11/dist-packages (from mkl->numpy>=1.22->nibabel) (2022.1.0)\nRequirement already satisfied: tcmlib==1.* in /usr/local/lib/python3.11/dist-packages (from tbb==2022.*->mkl->numpy>=1.22->nibabel) (1.3.0)\nRequirement already satisfied: intel-cmplr-lib-rt in /usr/local/lib/python3.11/dist-packages (from mkl_umath->numpy>=1.22->nibabel) (2024.2.0)\nRequirement already satisfied: intel-cmplr-lib-ur==2024.2.0 in /usr/local/lib/python3.11/dist-packages (from intel-openmp<2026,>=2024->mkl->numpy>=1.22->nibabel) (2024.2.0)\n",
          "output_type": "stream"
        }
      ],
      "execution_count": null
    },
    {
      "cell_type": "markdown",
      "source": [
        " Data Augmentation Function"
      ],
      "metadata": {
        "id": "foR2xq2v-H3y"
      }
    },
    {
      "cell_type": "code",
      "source": [
        "def augment_volume(volume):\n",
        "    if random.random() > 0.5:\n",
        "        volume = np.flip(volume, axis=0)\n",
        "    if random.random() > 0.5:\n",
        "        volume = np.flip(volume, axis=1)\n",
        "    if random.random() > 0.5:\n",
        "        volume = np.flip(volume, axis=2)\n",
        "    k = random.choice([0,1,2,3])\n",
        "    axis = random.choice([(0,1),(1,2),(0,2)])\n",
        "    volume = np.rot90(volume, k=k, axes=axis)\n",
        "    noise = np.random.normal(0, 0.01, volume.shape)\n",
        "    volume = volume + noise\n",
        "    volume = np.clip(volume, 0, 1)\n",
        "    return volume\n"
      ],
      "metadata": {
        "trusted": true,
        "execution": {
          "iopub.status.busy": "2025-07-03T18:39:27.116549Z",
          "iopub.execute_input": "2025-07-03T18:39:27.11736Z",
          "iopub.status.idle": "2025-07-03T18:39:27.122746Z",
          "shell.execute_reply.started": "2025-07-03T18:39:27.117336Z",
          "shell.execute_reply": "2025-07-03T18:39:27.12204Z"
        },
        "id": "8Mgs6iA--H3z"
      },
      "outputs": [],
      "execution_count": null
    },
    {
      "cell_type": "markdown",
      "source": [
        "3. CBAM Modules for 3D"
      ],
      "metadata": {
        "id": "HxsL-reD-H3z"
      }
    },
    {
      "cell_type": "code",
      "source": [
        "class ChannelAttention3D(nn.Module):\n",
        "    def __init__(self, in_planes, reduction=16):\n",
        "        super().__init__()\n",
        "        self.avg_pool = nn.AdaptiveAvgPool3d(1)\n",
        "        self.max_pool = nn.AdaptiveMaxPool3d(1)\n",
        "        self.fc = nn.Sequential(\n",
        "            nn.Conv3d(in_planes, in_planes // reduction, 1, bias=False),\n",
        "            nn.ReLU(),\n",
        "            nn.Conv3d(in_planes // reduction, in_planes, 1, bias=False)\n",
        "        )\n",
        "        self.sigmoid = nn.Sigmoid()\n",
        "    def forward(self, x):\n",
        "        avg_out = self.fc(self.avg_pool(x))\n",
        "        max_out = self.fc(self.max_pool(x))\n",
        "        out = avg_out + max_out\n",
        "        return self.sigmoid(out)\n",
        "\n",
        "class SpatialAttention3D(nn.Module):\n",
        "    def __init__(self, kernel_size=7):\n",
        "        super().__init__()\n",
        "        padding = (kernel_size - 1) // 2\n",
        "        self.conv = nn.Conv3d(2, 1, kernel_size, padding=padding, bias=False)\n",
        "        self.sigmoid = nn.Sigmoid()\n",
        "    def forward(self, x):\n",
        "        avg_out = torch.mean(x, dim=1, keepdim=True)\n",
        "        max_out, _ = torch.max(x, dim=1, keepdim=True)\n",
        "        x_cat = torch.cat([avg_out, max_out], dim=1)\n",
        "        out = self.conv(x_cat)\n",
        "        return self.sigmoid(out)\n",
        "\n",
        "class CBAM3D(nn.Module):\n",
        "    def __init__(self, in_planes, reduction=16, kernel_size=7):\n",
        "        super().__init__()\n",
        "        self.ca = ChannelAttention3D(in_planes, reduction)\n",
        "        self.sa = SpatialAttention3D(kernel_size)\n",
        "    def forward(self, x):\n",
        "        x = x * self.ca(x)\n",
        "        x = x * self.sa(x)\n",
        "        return x\n"
      ],
      "metadata": {
        "trusted": true,
        "execution": {
          "iopub.status.busy": "2025-07-03T18:39:27.123367Z",
          "iopub.execute_input": "2025-07-03T18:39:27.123628Z",
          "iopub.status.idle": "2025-07-03T18:39:27.145891Z",
          "shell.execute_reply.started": "2025-07-03T18:39:27.123603Z",
          "shell.execute_reply": "2025-07-03T18:39:27.14533Z"
        },
        "id": "Al5Bm9ET-H3z"
      },
      "outputs": [],
      "execution_count": null
    },
    {
      "cell_type": "markdown",
      "source": [
        "4. MRI3DDataset with Augmentation"
      ],
      "metadata": {
        "id": "9uIbOojy-H30"
      }
    },
    {
      "cell_type": "code",
      "source": [
        "class MRI3DDataset(Dataset):\n",
        "    def __init__(self, samples, target_shape=(128, 128, 128), augment=False):\n",
        "        self.samples = samples\n",
        "        self.target_shape = target_shape\n",
        "        self.augment = augment\n",
        "    def __len__(self):\n",
        "        return len(self.samples)\n",
        "    def __getitem__(self, idx):\n",
        "        nii_path, label = self.samples[idx]\n",
        "        img = nib.load(nii_path).get_fdata()\n",
        "        img = (img - np.min(img)) / (np.max(img) - np.min(img) + 1e-8)\n",
        "        img = self.resize_volume(img, self.target_shape)\n",
        "        if self.augment:\n",
        "            img = augment_volume(img)\n",
        "        img = img[np.newaxis, ...].astype(np.float32)\n",
        "        return torch.tensor(img), label\n",
        "    def resize_volume(self, volume, target_shape):\n",
        "        depth, height, width = volume.shape\n",
        "        target_depth, target_height, target_width = target_shape\n",
        "        depth_factor = target_depth / depth\n",
        "        height_factor = target_height / height\n",
        "        width_factor = target_width / width\n",
        "        return zoom(volume, (depth_factor, height_factor, width_factor), order=1)\n"
      ],
      "metadata": {
        "trusted": true,
        "execution": {
          "iopub.status.busy": "2025-07-03T18:39:27.146662Z",
          "iopub.execute_input": "2025-07-03T18:39:27.146902Z",
          "iopub.status.idle": "2025-07-03T18:39:27.161243Z",
          "shell.execute_reply.started": "2025-07-03T18:39:27.146877Z",
          "shell.execute_reply": "2025-07-03T18:39:27.160635Z"
        },
        "id": "z9j75ecS-H30"
      },
      "outputs": [],
      "execution_count": null
    },
    {
      "cell_type": "markdown",
      "source": [
        "5. Data Preparation"
      ],
      "metadata": {
        "id": "Qv9_YhxE-H30"
      }
    },
    {
      "cell_type": "code",
      "source": [
        "root_dir = '/kaggle/input/dataset-nifiti2/DATASET_NIFTI2'\n",
        "class_names = ['AD', 'CN']\n",
        "class_map = {'CN': 0, 'AD': 1}\n",
        "random.seed(42)\n",
        "\n",
        "# Define the lists before using them!\n",
        "train_samples, val_samples, test_samples = [], [], []\n",
        "\n",
        "for cls in class_names:\n",
        "    class_dir = os.path.join(root_dir, cls)\n",
        "    nii_files = [f for f in os.listdir(class_dir) if f.endswith(('.nii', '.nii.gz'))]\n",
        "    random.shuffle(nii_files)\n",
        "    n_total = len(nii_files)\n",
        "    n_train = int(0.7 * n_total)\n",
        "    n_val = int(0.15 * n_total)\n",
        "    n_test = n_total - n_train - n_val\n",
        "    for file_list, sample_list in zip([nii_files[:n_train],\n",
        "                                       nii_files[n_train:n_train+n_val],\n",
        "                                       nii_files[n_train+n_val:]],\n",
        "                                      [train_samples, val_samples, test_samples]):\n",
        "        for nii_file in file_list:\n",
        "            nii_path = os.path.join(class_dir, nii_file)\n",
        "            sample_list.append((nii_path, class_map[cls]))\n"
      ],
      "metadata": {
        "trusted": true,
        "execution": {
          "iopub.status.busy": "2025-07-03T18:39:27.162857Z",
          "iopub.execute_input": "2025-07-03T18:39:27.163047Z",
          "iopub.status.idle": "2025-07-03T18:39:27.479239Z",
          "shell.execute_reply.started": "2025-07-03T18:39:27.163033Z",
          "shell.execute_reply": "2025-07-03T18:39:27.478626Z"
        },
        "id": "O7fFNRZH-H30"
      },
      "outputs": [],
      "execution_count": null
    },
    {
      "cell_type": "markdown",
      "source": [
        "6. Data Loaders (Batch Size 4 or 8, Augmentation for Training)"
      ],
      "metadata": {
        "id": "WFR4cLHQ-H31"
      }
    },
    {
      "cell_type": "code",
      "source": [
        "batch_size = 4  # or 8, depending on GPU RAM\n",
        "target_shape = (128, 128, 128)\n",
        "train_dataset = MRI3DDataset(train_samples, target_shape, augment=True)\n",
        "val_dataset = MRI3DDataset(val_samples, target_shape, augment=False)\n",
        "test_dataset = MRI3DDataset(test_samples, target_shape, augment=False)\n",
        "train_loader = DataLoader(train_dataset, batch_size=batch_size, shuffle=True)\n",
        "val_loader = DataLoader(val_dataset, batch_size=batch_size, shuffle=False)\n",
        "test_loader = DataLoader(test_dataset, batch_size=batch_size, shuffle=False)\n"
      ],
      "metadata": {
        "trusted": true,
        "execution": {
          "iopub.status.busy": "2025-07-03T18:39:27.479829Z",
          "iopub.execute_input": "2025-07-03T18:39:27.48004Z",
          "iopub.status.idle": "2025-07-03T18:39:27.48507Z",
          "shell.execute_reply.started": "2025-07-03T18:39:27.480023Z",
          "shell.execute_reply": "2025-07-03T18:39:27.484202Z"
        },
        "id": "V8aKcoEj-H31"
      },
      "outputs": [],
      "execution_count": null
    },
    {
      "cell_type": "markdown",
      "source": [
        "7. 3D-ResNet + CBAM Model with Transfer Learning and Dropout"
      ],
      "metadata": {
        "id": "Fvby3IPh-H31"
      }
    },
    {
      "cell_type": "code",
      "source": [
        "class ResNet3D_CBAM_TL(nn.Module):\n",
        "    def __init__(self, num_classes=2, pretrained=True):\n",
        "        super().__init__()\n",
        "        self.model = r3d_18(weights=R3D_18_Weights.DEFAULT if pretrained else None)\n",
        "        self.model.stem[0] = nn.Conv3d(1, 64, kernel_size=(3, 7, 7),\n",
        "                                        stride=(1, 2, 2), padding=(1, 3, 3), bias=False)\n",
        "        self.model.fc = nn.Identity()  # Remove final FC for custom head\n",
        "        self.cbam1 = CBAM3D(64)\n",
        "        self.cbam2 = CBAM3D(64)\n",
        "        self.cbam3 = CBAM3D(128)\n",
        "        self.cbam4 = CBAM3D(256)\n",
        "        self.cbam5 = CBAM3D(512)\n",
        "        self.dropout = nn.Dropout(p=0.5)\n",
        "        self.classifier = nn.Linear(512, num_classes)\n",
        "    def forward(self, x):\n",
        "        x = self.model.stem(x)\n",
        "        x = self.cbam1(x)\n",
        "        x = self.model.layer1(x)\n",
        "        x = self.cbam2(x)\n",
        "        x = self.model.layer2(x)\n",
        "        x = self.cbam3(x)\n",
        "        x = self.model.layer3(x)\n",
        "        x = self.cbam4(x)\n",
        "        x = self.model.layer4(x)\n",
        "        x = self.cbam5(x)\n",
        "        x = self.model.avgpool(x)\n",
        "        x = torch.flatten(x, 1)\n",
        "        x = self.dropout(x)\n",
        "        x = self.classifier(x)\n",
        "        return x\n",
        "\n",
        "model = ResNet3D_CBAM_TL(pretrained=True).to(device)\n"
      ],
      "metadata": {
        "trusted": true,
        "execution": {
          "iopub.status.busy": "2025-07-03T18:39:27.485967Z",
          "iopub.execute_input": "2025-07-03T18:39:27.486584Z",
          "iopub.status.idle": "2025-07-03T18:39:30.901825Z",
          "shell.execute_reply.started": "2025-07-03T18:39:27.486567Z",
          "shell.execute_reply": "2025-07-03T18:39:30.901257Z"
        },
        "id": "EjuKgyeg-H31",
        "outputId": "26788e92-8992-43bf-fff1-76ff6a47a155"
      },
      "outputs": [
        {
          "name": "stderr",
          "text": "Downloading: \"https://download.pytorch.org/models/r3d_18-b3b3357e.pth\" to /root/.cache/torch/hub/checkpoints/r3d_18-b3b3357e.pth\n100%|██████████| 127M/127M [00:02<00:00, 58.8MB/s] \n",
          "output_type": "stream"
        }
      ],
      "execution_count": null
    },
    {
      "cell_type": "markdown",
      "source": [
        "8. Training Loop (Mixed Precision, 50 Epochs)"
      ],
      "metadata": {
        "id": "ZDdPF685-H31"
      }
    },
    {
      "cell_type": "code",
      "source": [
        "from torch.amp import autocast, GradScaler\n",
        "\n",
        "criterion = nn.CrossEntropyLoss()\n",
        "optimizer = optim.AdamW(model.parameters(), lr=1e-4, weight_decay=1e-3)\n",
        "scaler = GradScaler('cuda')\n",
        "num_epochs = 10\n",
        "best_val_acc = 0\n",
        "\n",
        "for epoch in range(num_epochs):\n",
        "    model.train()\n",
        "    running_loss, correct, total = 0.0, 0, 0\n",
        "    for volumes, labels in train_loader:\n",
        "        volumes, labels = volumes.to(device), labels.to(device)\n",
        "        optimizer.zero_grad()\n",
        "        with autocast('cuda'):\n",
        "            outputs = model(volumes)\n",
        "            loss = criterion(outputs, labels)\n",
        "        scaler.scale(loss).backward()\n",
        "        scaler.step(optimizer)\n",
        "        scaler.update()\n",
        "        running_loss += loss.item() * volumes.size(0)\n",
        "        _, predicted = torch.max(outputs, 1)\n",
        "        total += labels.size(0)\n",
        "        correct += (predicted == labels).sum().item()\n",
        "    train_acc = 100 * correct / total\n",
        "\n",
        "    # Validation\n",
        "    model.eval()\n",
        "    val_correct, val_total = 0, 0\n",
        "    with torch.no_grad():\n",
        "        for volumes, labels in val_loader:\n",
        "            volumes, labels = volumes.to(device), labels.to(device)\n",
        "            with autocast('cuda'):\n",
        "                outputs = model(volumes)\n",
        "            _, predicted = torch.max(outputs, 1)\n",
        "            val_total += labels.size(0)\n",
        "            val_correct += (predicted == labels).sum().item()\n",
        "    val_acc = 100 * val_correct / val_total\n",
        "\n",
        "    if val_acc > best_val_acc:\n",
        "        best_val_acc = val_acc\n",
        "        torch.save(model.state_dict(), '/kaggle/working/best_model.pth')\n",
        "\n",
        "    print(f\"Epoch {epoch+1}/{num_epochs}: Loss={running_loss/len(train_loader.dataset):.4f} \"\n",
        "          f\"Train Acc={train_acc:.2f}% Val Acc={val_acc:.2f}%\")\n"
      ],
      "metadata": {
        "trusted": true,
        "execution": {
          "iopub.status.busy": "2025-07-03T18:39:30.902491Z",
          "iopub.execute_input": "2025-07-03T18:39:30.902752Z",
          "iopub.status.idle": "2025-07-03T20:55:06.999287Z",
          "shell.execute_reply.started": "2025-07-03T18:39:30.902733Z",
          "shell.execute_reply": "2025-07-03T20:55:06.998478Z"
        },
        "id": "ThHFFRPa-H31",
        "outputId": "5aa58a01-5336-4f5a-cd26-b84b422b24b7"
      },
      "outputs": [
        {
          "name": "stdout",
          "text": "Epoch 1/10: Loss=0.6715 Train Acc=58.48% Val Acc=52.06%\nEpoch 2/10: Loss=0.6420 Train Acc=64.10% Val Acc=56.19%\nEpoch 3/10: Loss=0.6364 Train Acc=64.21% Val Acc=52.06%\nEpoch 4/10: Loss=0.6234 Train Acc=66.96% Val Acc=65.46%\nEpoch 5/10: Loss=0.6184 Train Acc=67.18% Val Acc=50.52%\nEpoch 6/10: Loss=0.6203 Train Acc=66.30% Val Acc=70.62%\nEpoch 7/10: Loss=0.6119 Train Acc=67.40% Val Acc=53.61%\nEpoch 8/10: Loss=0.6017 Train Acc=68.94% Val Acc=56.70%\nEpoch 9/10: Loss=0.5965 Train Acc=70.26% Val Acc=77.84%\nEpoch 10/10: Loss=0.5952 Train Acc=68.83% Val Acc=61.34%\n",
          "output_type": "stream"
        }
      ],
      "execution_count": null
    },
    {
      "cell_type": "markdown",
      "source": [
        "9. Evaluation and Visualization"
      ],
      "metadata": {
        "id": "6XXFMWOr-H31"
      }
    },
    {
      "cell_type": "code",
      "source": [
        "model.load_state_dict(torch.load('/kaggle/working/best_model.pth'))\n",
        "model.eval()\n",
        "all_preds, all_targets, all_probs = [], [], []\n",
        "with torch.no_grad():\n",
        "    for volumes, labels in test_loader:\n",
        "        volumes = volumes.to(device)\n",
        "        outputs = model(volumes)\n",
        "        probs = torch.softmax(outputs, dim=1)[:, 1]\n",
        "        _, predicted = torch.max(outputs, 1)\n",
        "        all_preds.extend(predicted.cpu().numpy())\n",
        "        all_targets.extend(labels.numpy())\n",
        "        all_probs.extend(probs.cpu().numpy())\n",
        "\n",
        "cm = confusion_matrix(all_targets, all_preds)\n",
        "plt.figure(figsize=(5,4))\n",
        "sns.heatmap(cm, annot=True, fmt='d', cmap='Blues',\n",
        "            xticklabels=[\"CN\", \"AD\"],\n",
        "            yticklabels=[\"CN\", \"AD\"])\n",
        "plt.xlabel(\"Predicted\")\n",
        "plt.ylabel(\"True\")\n",
        "plt.title(\"Confusion Matrix\")\n",
        "plt.show()\n",
        "\n",
        "print(classification_report(all_targets, all_preds, target_names=[\"CN\", \"AD\"]))\n",
        "\n",
        "auc = roc_auc_score(all_targets, all_probs)\n",
        "fpr, tpr, _ = roc_curve(all_targets, all_probs)\n",
        "plt.plot(fpr, tpr, label=f\"AUC = {auc:.2f}\")\n",
        "plt.plot([0,1],[0,1],'k--')\n",
        "plt.xlabel(\"False Positive Rate\")\n",
        "plt.ylabel(\"True Positive Rate\")\n",
        "plt.title(\"ROC Curve\")\n",
        "plt.legend()\n",
        "plt.show()\n",
        "print(f\"ROC AUC: {auc:.3f}\")\n"
      ],
      "metadata": {
        "trusted": true,
        "execution": {
          "iopub.status.busy": "2025-07-03T20:55:07.000099Z",
          "iopub.execute_input": "2025-07-03T20:55:07.000375Z",
          "iopub.status.idle": "2025-07-03T20:58:24.23563Z",
          "shell.execute_reply.started": "2025-07-03T20:55:07.000357Z",
          "shell.execute_reply": "2025-07-03T20:58:24.234978Z"
        },
        "id": "nXTU1r9d-H31",
        "outputId": "dd82c653-7ea1-4b77-f600-b0e65e0f8353"
      },
      "outputs": [
        {
          "output_type": "display_data",
          "data": {
            "text/plain": "<Figure size 500x400 with 2 Axes>",
            "image/png": "[encoded data removed]"
          },
          "metadata": {}
        },
        {
          "name": "stdout",
          "text": "              precision    recall  f1-score   support\n\n          CN       0.75      0.76      0.75        99\n          AD       0.76      0.75      0.75        99\n\n    accuracy                           0.75       198\n   macro avg       0.75      0.75      0.75       198\nweighted avg       0.75      0.75      0.75       198\n\n",
          "output_type": "stream"
        },
        {
          "output_type": "display_data",
          "data": {
            "text/plain": "<Figure size 640x480 with 1 Axes>",
            "image/png": "[encoded data removed]"
          },
          "metadata": {}
        },
        {
          "name": "stdout",
          "text": "ROC AUC: 0.847\n",
          "output_type": "stream"
        }
      ],
      "execution_count": null
    }
  ]
}